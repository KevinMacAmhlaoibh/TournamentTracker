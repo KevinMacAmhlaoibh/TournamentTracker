{
 "cells": [
  {
   "cell_type": "code",
   "execution_count": null,
   "id": "b5ee92d4",
   "metadata": {},
   "outputs": [
    {
     "name": "stdout",
     "output_type": "stream",
     "text": [
      "Player 1 Win Probability: 30.86%\n",
      "Player 2 Win Probability: 30.85%\n",
      "Tie Probability: 38.29%\n"
     ]
    }
   ],
   "source": [
    "import random\n",
    "\n",
    "# Define the ranks and suits\n",
    "ranks = '23456789TJQKA'\n",
    "suits = 'cdhs'\n",
    "\n",
    "# Create a deck of cards\n",
    "deck = [rank + suit for rank in ranks for suit in suits]\n",
    "\n",
    "# Function to evaluate the strength of a hand\n",
    "def evaluate_hand(hand):\n",
    "    # Simplified evaluation: count the number of high cards (T, J, Q, K, A)\n",
    "    high_cards = 'TJQKA'\n",
    "    return sum(1 for card in hand if card[0] in high_cards)\n",
    "\n",
    "# Function to simulate a single hand\n",
    "def simulate_hand():\n",
    "    # Shuffle the deck\n",
    "    random.shuffle(deck)\n",
    "    \n",
    "    # Deal two hole cards to each player\n",
    "    player1_hand = deck[:2]\n",
    "    player2_hand = deck[2:4]\n",
    "    \n",
    "    # Deal five community cards\n",
    "    community_cards = deck[4:9]\n",
    "    \n",
    "    # Evaluate the strength of each hand\n",
    "    player1_strength = evaluate_hand(player1_hand + community_cards)\n",
    "    player2_strength = evaluate_hand(player2_hand + community_cards)\n",
    "    \n",
    "    # Determine the winner\n",
    "    if player1_strength > player2_strength:\n",
    "        return 'Player 1'\n",
    "    elif player2_strength > player1_strength:\n",
    "        return 'Player 2'\n",
    "    else:\n",
    "        return 'Tie'\n",
    "\n",
    "# Function to run Monte Carlo simulations\n",
    "def run_simulations(num_simulations):\n",
    "    results = {'Player 1': 0, 'Player 2': 0, 'Tie': 0}\n",
    "    \n",
    "    for _ in range(num_simulations):\n",
    "        result = simulate_hand()\n",
    "        results[result] += 1\n",
    "    \n",
    "    return results\n",
    "\n",
    "# Run the simulations\n",
    "num_simulations = 10000000\n",
    "results = run_simulations(num_simulations)\n",
    "\n",
    "# Calculate the winning probabilities\n",
    "player1_win_prob = results['Player 1'] / num_simulations\n",
    "player2_win_prob = results['Player 2'] / num_simulations\n",
    "tie_prob = results['Tie'] / num_simulations\n",
    "\n",
    "print(f\"Player 1 Win Probability: {player1_win_prob:.2%}\")\n",
    "print(f\"Player 2 Win Probability: {player2_win_prob:.2%}\")\n",
    "print(f\"Tie Probability: {tie_prob:.2%}\")\n"
   ]
  }
 ],
 "metadata": {
  "kernelspec": {
   "display_name": "Python 3",
   "language": "python",
   "name": "python3"
  },
  "language_info": {
   "codemirror_mode": {
    "name": "ipython",
    "version": 3
   },
   "file_extension": ".py",
   "mimetype": "text/x-python",
   "name": "python",
   "nbconvert_exporter": "python",
   "pygments_lexer": "ipython3",
   "version": "3.13.2"
  }
 },
 "nbformat": 4,
 "nbformat_minor": 5
}
